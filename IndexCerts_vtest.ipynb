{
  "cells": [
    {
      "cell_type": "code",
      "source": [
        "import pandas as pd\n",
        "cdf = pd.read_parquet(\"abs_type_approvals.parquet\")\n",
        "cdf.info()"
      ],
      "outputs": [
        {
          "output_type": "stream",
          "name": "stdout",
          "text": "<class 'pandas.core.frame.DataFrame'>\nRangeIndex: 80765 entries, 0 to 80764\nData columns (total 32 columns):\n #   Column              Non-Null Count  Dtype  \n---  ------              --------------  -----  \n 0   certificateNumber   80765 non-null  object \n 1   issueDate           79652 non-null  object \n 2   expirydate          79807 non-null  object \n 3   companyname         74034 non-null  object \n 4   customer_id         80765 non-null  object \n 5   address1            32130 non-null  object \n 6   country             74034 non-null  object \n 7   product             80765 non-null  object \n 8   description         80750 non-null  object \n 9   model               80765 non-null  object \n 10  modelcertId         80765 non-null  int32  \n 11  absRules            80765 non-null  object \n 12  comments            80713 non-null  object \n 13  termsOfValidity     78394 non-null  object \n 14  serviceRestriction  80756 non-null  object \n 15  ratings             80727 non-null  object \n 16  category            36592 non-null  object \n 17  eumed               4691 non-null   object \n 18  other               16217 non-null  object \n 19  gov_authority       6288 non-null   object \n 20  industry            45949 non-null  object \n 21  nationals           22891 non-null  object \n 22  state               37002 non-null  object \n 23  business_phone      79473 non-null  object \n 24  zip                 61106 non-null  object \n 25  email               77804 non-null  object \n 26  city                72603 non-null  object \n 27  tier                27290 non-null  float64\n 28  Endorsement         80765 non-null  object \n 29  intendedservice     80753 non-null  object \n 30  Auditnumber         62 non-null     object \n 31  typeofaudit         62 non-null     object \ndtypes: float64(1), int32(1), object(30)\nmemory usage: 19.4+ MB\n"
        }
      ],
      "execution_count": 1,
      "metadata": {
        "gather": {
          "logged": 1692747176889
        }
      },
      "id": "5541b0e8"
    },
    {
      "cell_type": "code",
      "source": [
        "cdf['category'].unique()"
      ],
      "outputs": [
        {
          "output_type": "execute_result",
          "execution_count": 2,
          "data": {
            "text/plain": "array([None, 'Type Approved', 'EC Type Examined', 'Design Assessed',\n       'Wheelmarked'], dtype=object)"
          },
          "metadata": {}
        }
      ],
      "execution_count": 2,
      "metadata": {
        "gather": {
          "logged": 1692747201784
        }
      },
      "id": "7d286870"
    },
    {
      "cell_type": "code",
      "source": [
        "cdf.columns"
      ],
      "outputs": [
        {
          "output_type": "execute_result",
          "execution_count": 20,
          "data": {
            "text/plain": "Index(['certificateNumber', 'issueDate', 'expirydate', 'companyname',\n       'customer_id', 'address1', 'country', 'product', 'description', 'model',\n       'modelcertId', 'absRules', 'comments', 'termsOfValidity',\n       'serviceRestriction', 'ratings', 'category', 'eumed', 'other',\n       'gov_authority', 'industry', 'nationals', 'state', 'business_phone',\n       'zip', 'email', 'city', 'tier', 'Endorsement', 'intendedservice',\n       'Auditnumber', 'typeofaudit'],\n      dtype='object')"
          },
          "metadata": {}
        }
      ],
      "execution_count": 20,
      "metadata": {
        "jupyter": {
          "source_hidden": false,
          "outputs_hidden": false
        },
        "nteract": {
          "transient": {
            "deleting": false
          }
        },
        "gather": {
          "logged": 1692747709668
        }
      },
      "id": "2284385c-a508-44da-a967-1e996e400108"
    },
    {
      "cell_type": "code",
      "source": [
        "import base64, hashlib\n",
        "def hash(x):\n",
        "  return \"id-\" + base64.urlsafe_b64encode(hashlib.sha1(x).digest()).decode(\"utf-8\") "
      ],
      "outputs": [],
      "execution_count": 3,
      "metadata": {
        "gather": {
          "logged": 1692747216348
        }
      },
      "id": "5ef3bd8e"
    },
    {
      "cell_type": "code",
      "source": [
        "import json\n",
        "import requests\n",
        "from pprint import pprint"
      ],
      "outputs": [],
      "execution_count": 4,
      "metadata": {
        "gather": {
          "logged": 1692747220843
        }
      },
      "id": "5caafb47"
    },
    {
      "cell_type": "code",
      "source": [
        "endpoint = 'https://gptkb-r5e7unxol46om.search.windows.net/'\n",
        "api_version = '?api-version=2019-05-06'\n",
        "headers = {'Content-Type': 'application/json',\n",
        "        'api-key': 'kxgH5lLlChcWrsiGObjpjIrvwednYcUOaFgiZ12NXYAzSeBrN9g8' }"
      ],
      "outputs": [],
      "execution_count": 5,
      "metadata": {
        "gather": {
          "logged": 1692747228182
        }
      },
      "id": "1169bb37"
    },
    {
      "cell_type": "code",
      "source": [
        "with open('typeapprovalindex.json') as json_file:\n",
        "    index_schema = json.load(json_file)"
      ],
      "outputs": [],
      "execution_count": 15,
      "metadata": {
        "gather": {
          "logged": 1692747645186
        }
      },
      "id": "7c855dc9"
    },
    {
      "cell_type": "code",
      "source": [
        "#index_name=\"typeapprovalindex\"\n",
        "index_name=\"typeapprovalindex2\""
      ],
      "outputs": [],
      "execution_count": 13,
      "metadata": {
        "gather": {
          "logged": 1692747473623
        }
      },
      "id": "0e710e6f"
    },
    {
      "cell_type": "code",
      "source": [
        "#Thisis for deleting index\n",
        "url = endpoint + \"indexes/\" + index_name + api_version\n",
        "response  = requests.delete(url, headers=headers)\n",
        "print(response)"
      ],
      "outputs": [
        {
          "output_type": "stream",
          "name": "stdout",
          "text": "<Response [204]>\n"
        }
      ],
      "execution_count": 8,
      "metadata": {
        "gather": {
          "logged": 1689188216610
        }
      },
      "id": "8cc5c936"
    },
    {
      "cell_type": "code",
      "source": [
        "url = endpoint + \"indexes\" + api_version\n",
        "response  = requests.post(url, headers=headers, json=index_schema)\n",
        "index = response.json()\n",
        "pprint(index)"
      ],
      "outputs": [
        {
          "output_type": "stream",
          "name": "stdout",
          "text": "{'@odata.context': 'https://gptkb-r5e7unxol46om.search.windows.net/$metadata#indexes/$entity',\n '@odata.etag': '\"0x8DBA3693EA489CF\"',\n 'analyzers': [],\n 'charFilters': [],\n 'corsOptions': {'allowedOrigins': ['*'], 'maxAgeInSeconds': 300},\n 'defaultScoringProfile': None,\n 'encryptionKey': None,\n 'fields': [{'analyzer': None,\n             'facetable': False,\n             'filterable': False,\n             'indexAnalyzer': None,\n             'key': True,\n             'name': 'id',\n             'retrievable': True,\n             'searchAnalyzer': None,\n             'searchable': False,\n             'sortable': False,\n             'synonymMaps': [],\n             'type': 'Edm.String'},\n            {'analyzer': None,\n             'facetable': False,\n             'filterable': False,\n             'indexAnalyzer': None,\n             'key': False,\n             'name': 'content',\n             'retrievable': True,\n             'searchAnalyzer': None,\n             'searchable': True,\n             'sortable': False,\n             'synonymMaps': [],\n             'type': 'Edm.String'},\n            {'analyzer': None,\n             'facetable': True,\n             'filterable': True,\n             'indexAnalyzer': None,\n             'key': False,\n             'name': 'category',\n             'retrievable': True,\n             'searchAnalyzer': None,\n             'searchable': True,\n             'sortable': False,\n             'synonymMaps': [],\n             'type': 'Edm.String'},\n            {'analyzer': None,\n             'facetable': False,\n             'filterable': False,\n             'indexAnalyzer': None,\n             'key': False,\n             'name': 'all',\n             'retrievable': True,\n             'searchAnalyzer': None,\n             'searchable': False,\n             'sortable': False,\n             'synonymMaps': [],\n             'type': 'Edm.String'},\n            {'analyzer': None,\n             'facetable': True,\n             'filterable': True,\n             'indexAnalyzer': None,\n             'key': False,\n             'name': 'sourcepage',\n             'retrievable': True,\n             'searchAnalyzer': None,\n             'searchable': True,\n             'sortable': False,\n             'synonymMaps': [],\n             'type': 'Edm.String'},\n            {'analyzer': None,\n             'facetable': True,\n             'filterable': True,\n             'indexAnalyzer': None,\n             'key': False,\n             'name': 'sourcefile',\n             'retrievable': True,\n             'searchAnalyzer': None,\n             'searchable': True,\n             'sortable': False,\n             'synonymMaps': [],\n             'type': 'Edm.String'},\n            {'analyzer': None,\n             'facetable': False,\n             'filterable': True,\n             'indexAnalyzer': None,\n             'key': False,\n             'name': 'expirydate',\n             'retrievable': True,\n             'searchAnalyzer': None,\n             'searchable': False,\n             'sortable': True,\n             'synonymMaps': [],\n             'type': 'Edm.DateTimeOffset'},\n            {'analyzer': None,\n             'facetable': False,\n             'filterable': True,\n             'indexAnalyzer': None,\n             'key': False,\n             'name': 'issuedate',\n             'retrievable': True,\n             'searchAnalyzer': None,\n             'searchable': False,\n             'sortable': True,\n             'synonymMaps': [],\n             'type': 'Edm.DateTimeOffset'}],\n 'name': 'typeapprovalindex2',\n 'scoringProfiles': [],\n 'suggesters': [],\n 'tokenFilters': [],\n 'tokenizers': []}\n"
        }
      ],
      "execution_count": 17,
      "metadata": {
        "gather": {
          "logged": 1692747662252
        }
      },
      "id": "2f4ed0e1"
    },
    {
      "cell_type": "code",
      "source": [
        "url = endpoint + \"indexes\" + api_version + \"&$select=name\"\n",
        "response  = requests.get(url, headers=headers)\n",
        "index_list = response.json()\n",
        "pprint(index_list)"
      ],
      "outputs": [
        {
          "output_type": "stream",
          "name": "stdout",
          "text": "{'@odata.context': 'https://gptkb-r5e7unxol46om.search.windows.net/$metadata#indexes(name)',\n 'value': [{'name': 'gptkbindex'},\n           {'name': 'typeapprovalindex'},\n           {'name': 'typeapprovalindex2'}]}\n"
        }
      ],
      "execution_count": 18,
      "metadata": {
        "gather": {
          "logged": 1692747669251
        }
      },
      "id": "63952d32"
    },
    {
      "cell_type": "code",
      "source": [
        "def ingest_docs(doc_df):\n",
        "    doc_df = doc_df.fillna('')\n",
        "    documents = {\"value\": doc_df.to_dict(orient=\"records\")}\n",
        "    url = endpoint + \"indexes/\" + index_name +\"/docs/index\" + api_version\n",
        "    response  = requests.post(url, headers=headers, json=documents)\n",
        "    response_df = pd.DataFrame.from_dict(response.json())\n",
        "    return response_df"
      ],
      "outputs": [],
      "execution_count": 19,
      "metadata": {
        "gather": {
          "logged": 1692747681366
        }
      },
      "id": "76cb9a25"
    },
    {
      "cell_type": "code",
      "source": [
        "cdf.head()"
      ],
      "outputs": [],
      "execution_count": null,
      "metadata": {},
      "id": "b5a3503d"
    },
    {
      "cell_type": "code",
      "source": [
        "# id = modelCertId\n",
        "# content = product + description + absRules + ratings\n",
        "# category = category\n",
        "# sourcepage = companyname + address1 + country\n",
        "# sourcefile = certificateNumber\n",
        "# issuedate = issueDate\n",
        "# expirydate = expirydate"
      ],
      "outputs": [],
      "execution_count": 16,
      "metadata": {},
      "id": "aa80d0a2"
    },
    {
      "cell_type": "code",
      "source": [
        "search_df = cdf[['modelcertId', 'product', 'description', 'absRules', 'ratings', 'category', 'companyname', 'address1', 'country', 'certificateNumber', 'issueDate', 'expirydate','eumed','other','gov_authority','industry','nationals']]\n",
        "content_cols = ['product', 'description', 'absRules', 'ratings','eumed','other','gov_authority','industry','nationals']\n",
        "company_cols = ['companyname', 'address1', 'country']\n",
        "\n",
        "search_df['all'] = cdf.apply(lambda row: ' || '.join(row.values.astype(str)), axis=1)\n",
        "\n",
        "search_df['content'] = search_df[content_cols].apply(lambda row: ' || '.join(row.values.astype(str)), axis=1)\n",
        "search_df['company'] = search_df[company_cols].apply(lambda row: ', '.join(row.values.astype(str)), axis=1)\n",
        "search_df = search_df.drop(content_cols, axis=1)\n",
        "search_df = search_df.drop(company_cols, axis=1)\n",
        "search_df = search_df.rename(columns={'modelcertId': 'id', 'company': 'sourcepage', 'certificateNumber': 'sourcefile', 'issueDate': 'issuedate'})\n",
        "search_df = search_df.dropna(subset=['issuedate', 'expirydate'])\n",
        "search_df['issuedate'] = search_df['issuedate'].map(lambda x: x.strftime('%Y-%m-%dT%H:%M:%SZ'))\n",
        "search_df['expirydate'] = search_df['expirydate'].map(lambda x: x.strftime('%Y-%m-%dT%H:%M:%SZ'))\n",
        "search_df['id'] = search_df['id'].astype(str)\n",
        "search_df.head()"
      ],
      "outputs": [
        {
          "output_type": "stream",
          "name": "stderr",
          "text": "/tmp/ipykernel_20117/2262666319.py:5: SettingWithCopyWarning: \nA value is trying to be set on a copy of a slice from a DataFrame.\nTry using .loc[row_indexer,col_indexer] = value instead\n\nSee the caveats in the documentation: https://pandas.pydata.org/pandas-docs/stable/user_guide/indexing.html#returning-a-view-versus-a-copy\n  search_df['all'] = cdf.apply(lambda row: ' || '.join(row.values.astype(str)), axis=1)\n/tmp/ipykernel_20117/2262666319.py:7: SettingWithCopyWarning: \nA value is trying to be set on a copy of a slice from a DataFrame.\nTry using .loc[row_indexer,col_indexer] = value instead\n\nSee the caveats in the documentation: https://pandas.pydata.org/pandas-docs/stable/user_guide/indexing.html#returning-a-view-versus-a-copy\n  search_df['content'] = search_df[content_cols].apply(lambda row: ' || '.join(row.values.astype(str)), axis=1)\n/tmp/ipykernel_20117/2262666319.py:8: SettingWithCopyWarning: \nA value is trying to be set on a copy of a slice from a DataFrame.\nTry using .loc[row_indexer,col_indexer] = value instead\n\nSee the caveats in the documentation: https://pandas.pydata.org/pandas-docs/stable/user_guide/indexing.html#returning-a-view-versus-a-copy\n  search_df['company'] = search_df[company_cols].apply(lambda row: ', '.join(row.values.astype(str)), axis=1)\n"
        },
        {
          "output_type": "execute_result",
          "execution_count": 21,
          "data": {
            "text/plain": "       id category              sourcefile             issuedate   \n0  228663     None         08-SQ344138-PDA  2008-05-22T00:00:00Z  \\\n1     953     None           00-QA0505-LTD  2000-05-05T00:00:00Z   \n2  337273     None      00-HS156975-3-DUP3  2010-07-19T00:00:00Z   \n3  372044     None       00-HS157686-3-PDA  2011-02-03T00:00:00Z   \n4  101472     None  00-HS175889A/1-PDA/DUP  2005-07-26T00:00:00Z   \n\n             expirydate                                                all   \n0  2013-05-21T00:00:00Z   08-SQ344138-PDA || 2008-05-22 || 2013-05-21 |...  \\\n1  2004-08-01T00:00:00Z  00-QA0505-LTD || 2000-05-05 || 2004-08-01 || M...   \n2  2010-10-18T00:00:00Z  00-HS156975-3-DUP3 || 2010-07-19 || 2010-10-18...   \n3  2011-05-22T00:00:00Z  00-HS157686-3-PDA || 2011-02-03 || 2011-05-22 ...   \n4  2006-09-25T00:00:00Z  00-HS175889A/1-PDA/DUP || 2005-07-26 || 2006-0...   \n\n                                             content   \n0  Valve || See attachment || ABS SVR 2008 1-1-4/...  \\\n1  Mounting Devices for PCs and Monitors || 22\" F...   \n2  Non-Metallic Flexible Hoses with End Fittings ...   \n3  Fire Suppression System, Inergen || Clean Agen...   \n4  Valve, Cast Steel Swing Check || Sizes: as per...   \n\n                                          sourcepage  \n0          BOTELI VALVE GROUP CO., LTD., None, China  \n1       MARINER SYSTEMS UK LTD, None, United Kingdom  \n2  GATES FLUID POWER TECHNOLOGIES (CHANGZHOU) CO....  \n3        TYCO FIRE PRODUCTS, LP, None, United States  \n4  HJ VALVE CO., LTD, 413, JUKGOK-RIJINYEONG-EUP,...  ",
            "text/html": "<div>\n<style scoped>\n    .dataframe tbody tr th:only-of-type {\n        vertical-align: middle;\n    }\n\n    .dataframe tbody tr th {\n        vertical-align: top;\n    }\n\n    .dataframe thead th {\n        text-align: right;\n    }\n</style>\n<table border=\"1\" class=\"dataframe\">\n  <thead>\n    <tr style=\"text-align: right;\">\n      <th></th>\n      <th>id</th>\n      <th>category</th>\n      <th>sourcefile</th>\n      <th>issuedate</th>\n      <th>expirydate</th>\n      <th>all</th>\n      <th>content</th>\n      <th>sourcepage</th>\n    </tr>\n  </thead>\n  <tbody>\n    <tr>\n      <th>0</th>\n      <td>228663</td>\n      <td>None</td>\n      <td>08-SQ344138-PDA</td>\n      <td>2008-05-22T00:00:00Z</td>\n      <td>2013-05-21T00:00:00Z</td>\n      <td>08-SQ344138-PDA || 2008-05-22 || 2013-05-21 |...</td>\n      <td>Valve || See attachment || ABS SVR 2008 1-1-4/...</td>\n      <td>BOTELI VALVE GROUP CO., LTD., None, China</td>\n    </tr>\n    <tr>\n      <th>1</th>\n      <td>953</td>\n      <td>None</td>\n      <td>00-QA0505-LTD</td>\n      <td>2000-05-05T00:00:00Z</td>\n      <td>2004-08-01T00:00:00Z</td>\n      <td>00-QA0505-LTD || 2000-05-05 || 2004-08-01 || M...</td>\n      <td>Mounting Devices for PCs and Monitors || 22\" F...</td>\n      <td>MARINER SYSTEMS UK LTD, None, United Kingdom</td>\n    </tr>\n    <tr>\n      <th>2</th>\n      <td>337273</td>\n      <td>None</td>\n      <td>00-HS156975-3-DUP3</td>\n      <td>2010-07-19T00:00:00Z</td>\n      <td>2010-10-18T00:00:00Z</td>\n      <td>00-HS156975-3-DUP3 || 2010-07-19 || 2010-10-18...</td>\n      <td>Non-Metallic Flexible Hoses with End Fittings ...</td>\n      <td>GATES FLUID POWER TECHNOLOGIES (CHANGZHOU) CO....</td>\n    </tr>\n    <tr>\n      <th>3</th>\n      <td>372044</td>\n      <td>None</td>\n      <td>00-HS157686-3-PDA</td>\n      <td>2011-02-03T00:00:00Z</td>\n      <td>2011-05-22T00:00:00Z</td>\n      <td>00-HS157686-3-PDA || 2011-02-03 || 2011-05-22 ...</td>\n      <td>Fire Suppression System, Inergen || Clean Agen...</td>\n      <td>TYCO FIRE PRODUCTS, LP, None, United States</td>\n    </tr>\n    <tr>\n      <th>4</th>\n      <td>101472</td>\n      <td>None</td>\n      <td>00-HS175889A/1-PDA/DUP</td>\n      <td>2005-07-26T00:00:00Z</td>\n      <td>2006-09-25T00:00:00Z</td>\n      <td>00-HS175889A/1-PDA/DUP || 2005-07-26 || 2006-0...</td>\n      <td>Valve, Cast Steel Swing Check || Sizes: as per...</td>\n      <td>HJ VALVE CO., LTD, 413, JUKGOK-RIJINYEONG-EUP,...</td>\n    </tr>\n  </tbody>\n</table>\n</div>"
          },
          "metadata": {}
        }
      ],
      "execution_count": 21,
      "metadata": {
        "gather": {
          "logged": 1692747843868
        }
      },
      "id": "033c5431"
    },
    {
      "cell_type": "code",
      "source": [
        "search_df[\"@search.action\"] = \"upload\""
      ],
      "outputs": [],
      "execution_count": 22,
      "metadata": {
        "gather": {
          "logged": 1692747879324
        }
      },
      "id": "d886a240"
    },
    {
      "cell_type": "code",
      "source": [
        "search_df.info()"
      ],
      "outputs": [
        {
          "output_type": "stream",
          "name": "stdout",
          "text": "<class 'pandas.core.frame.DataFrame'>\nIndex: 79652 entries, 0 to 80764\nData columns (total 9 columns):\n #   Column          Non-Null Count  Dtype \n---  ------          --------------  ----- \n 0   id              79652 non-null  object\n 1   category        36592 non-null  object\n 2   sourcefile      79652 non-null  object\n 3   issuedate       79652 non-null  object\n 4   expirydate      79652 non-null  object\n 5   all             79652 non-null  object\n 6   content         79652 non-null  object\n 7   sourcepage      79652 non-null  object\n 8   @search.action  79652 non-null  object\ndtypes: object(9)\nmemory usage: 6.1+ MB\n"
        }
      ],
      "execution_count": 23,
      "metadata": {
        "gather": {
          "logged": 1692747883213
        }
      },
      "id": "40521c2b"
    },
    {
      "cell_type": "code",
      "source": [
        "import numpy as np\n",
        "partitions = 1000\n",
        "data_splits = np.array_split(search_df, partitions)\n",
        "for data_split in data_splits: \n",
        "    doc_df = data_split.fillna('')\n",
        "    documents = {\"value\": doc_df.to_dict(orient=\"records\")}\n",
        "    url = endpoint + \"indexes/\" + index_name +\"/docs/index\" + api_version\n",
        "    response  = requests.post(url, headers=headers, json=documents)\n",
        "    #print(response.json())\n",
        "    #break\n",
        "    "
      ],
      "outputs": [],
      "execution_count": 24,
      "metadata": {
        "gather": {
          "logged": 1692748157651
        }
      },
      "id": "65a7ed62"
    },
    {
      "cell_type": "code",
      "source": [
        "search_df.to_parquet(\"typeapprovaldata1.parquet\")"
      ],
      "outputs": [],
      "execution_count": 25,
      "metadata": {
        "gather": {
          "logged": 1692748285506
        }
      },
      "id": "dc452cc7"
    },
    {
      "cell_type": "code",
      "source": [],
      "outputs": [],
      "execution_count": null,
      "metadata": {},
      "id": "501cf3e9"
    }
  ],
  "metadata": {
    "kernelspec": {
      "name": "python310-sdkv2",
      "language": "python",
      "display_name": "Python 3.10 - SDK v2"
    },
    "language_info": {
      "name": "python",
      "version": "3.10.10",
      "mimetype": "text/x-python",
      "codemirror_mode": {
        "name": "ipython",
        "version": 3
      },
      "pygments_lexer": "ipython3",
      "nbconvert_exporter": "python",
      "file_extension": ".py"
    },
    "microsoft": {
      "ms_spell_check": {
        "ms_spell_check_language": "en"
      },
      "host": {
        "AzureML": {
          "notebookHasBeenCompleted": true
        }
      }
    },
    "nteract": {
      "version": "nteract-front-end@1.0.0"
    },
    "kernel_info": {
      "name": "python310-sdkv2"
    }
  },
  "nbformat": 4,
  "nbformat_minor": 5
}